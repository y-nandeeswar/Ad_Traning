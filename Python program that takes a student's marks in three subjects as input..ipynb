{
  "cells": [
    {
      "cell_type": "code",
      "execution_count": 2,
      "metadata": {
        "colab": {
          "base_uri": "https://localhost:8080/"
        },
        "id": "hBcEQKpOvdHq",
        "outputId": "903acf48-a0a0-4930-a418-44e55d742818"
      },
      "outputs": [
        {
          "name": "stdout",
          "output_type": "stream",
          "text": [
            "Grade: C\n"
          ]
        }
      ],
      "source": [
        "def calculate_grade(marks1, marks2, marks3):\n",
        "  \"\"\"\n",
        "  Calculates the grade based on the average of three subject marks.\n",
        "\n",
        "  Args:\n",
        "    marks1: Marks in the first subject.\n",
        "    marks2: Marks in the second subject.\n",
        "    marks3: Marks in the third subject.\n",
        "\n",
        "  Returns:\n",
        "    str: The calculated grade.\n",
        "  \"\"\"\n",
        "  average = (marks1 + marks2 + marks3) / 3\n",
        "\n",
        "  if average >= 80:\n",
        "    return \"Grade: A\"\n",
        "  elif 70 <= average < 80:\n",
        "    return \"Grade: B\"\n",
        "  elif 60 <= average < 70:\n",
        "    return \"Grade: C\"\n",
        "  else:\n",
        "    return \"Grade: Fail\"\n",
        "\n",
        "# Get input from the user\n",
        "marks1 = float(input(\"Enter marks in subject 1: \"))\n",
        "marks2 = float(input(\"Enter marks in subject 2: \"))\n",
        "marks3 = float(input(\"Enter marks in subject 3: \"))\n",
        "\n",
        "# Calculate and print the grade\n",
        "grade = calculate_grade(marks1, marks2, marks3)\n",
        "print(grade)"
      ]
    },
    {
      "cell_type": "code",
      "execution_count": null,
      "metadata": {
        "id": "aCLAxdJ9vfNW"
      },
      "outputs": [],
      "source": []
    }
  ],
  "metadata": {
    "colab": {
      "provenance": []
    },
    "kernelspec": {
      "display_name": "Python 3",
      "name": "python3"
    },
    "language_info": {
      "codemirror_mode": {
        "name": "ipython",
        "version": 3
      },
      "file_extension": ".py",
      "mimetype": "text/x-python",
      "name": "python",
      "nbconvert_exporter": "python",
      "pygments_lexer": "ipython3",
      "version": "3.12.4"
    }
  },
  "nbformat": 4,
  "nbformat_minor": 0
}
