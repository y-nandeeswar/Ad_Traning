# Creating a list with 5 elements
my_list = [10, 20, 30, 40, 50]
print("Accessing list elements:")
print("First element:", my_list[0])  # First element
print("Third element:", my_list[2])  # Third element
print("Last element:", my_list[-1])  # Last element (negative index)

# Creating a tuple with 5 elements
my_tuple = (100, 200, 300, 400, 500)
print("\nAccessing tuple elements:")
print("Second element:", my_tuple[1])  # Second element
print("Fourth element:", my_tuple[3])  # Fourth element
print("First element (negative index):", my_tuple[-4])  # First element with negative index

# Creating a dictionary with 5 key-value pairs
my_dict = {'a': 1, 'b': 2, 'c': 3, 'd': 4, 'e': 5}
print("\nAccessing dictionary elements:")
print("Value for key 'a':", my_dict['a'])  # Value for key 'a'
print("Value for key 'c':", my_dict['c'])  # Value for key 'c'
