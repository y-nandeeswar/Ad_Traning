# Taking input from the user for the value of n
n = int(input("Enter a positive integer n: "))

# Initializing the sum variable
sum_even = 0

# Looping through all numbers from 1 to n
for i in range(1, n+1):
    if i % 2 == 0:  # Check if the number is even
        sum_even += i  # Add the even number to the sum

# Printing the result
print("Sum of all even numbers between 1 and", n, "is:", sum_even)
