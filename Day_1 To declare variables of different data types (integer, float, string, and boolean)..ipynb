integer_var = 42
float_var = 3.14
string_var = "Hello, Jupyter!"
boolean_var = True

# Print each variable and its type
print("Variable:", integer_var, "Type:", type(integer_var))
print("Variable:", float_var, "Type:", type(float_var))
print("Variable:", string_var, "Type:", type(string_var))
print("Variable:", boolean_var, "Type:", type(boolean_var))
