{
  "cells": [
    {
      "cell_type": "code",
      "execution_count": 1,
      "metadata": {
        "colab": {
          "base_uri": "https://localhost:8080/"
        },
        "id": "zimjppY1zHtW",
        "outputId": "0b7499a6-ab21-4aa1-e923-267865a143d6"
      },
      "outputs": [
        {
          "name": "stdout",
          "output_type": "stream",
          "text": [
            "List: [10, 20, 30, 40, 50]\n",
            "First element of List: 10\n",
            "Third element of List: 30\n",
            "Last element of List: 50\n",
            "\n",
            "Tuple: (1, 2, 3, 4, 5)\n",
            "First element of Tuple: 1\n",
            "Fourth element of Tuple: 4\n",
            "Last element of Tuple: 5\n",
            "\n",
            "Dictionary: {'name': 'Tejaswini Reddy', 'age': 21, 'city': 'Hyderabad', 'job': 'Engineer', 'hobby': 'Drawing'}\n",
            "Value associated with key 'name': Tejaswini Reddy\n",
            "Value associated with key 'age': 21\n",
            "Value associated with key 'city': Hyderabad\n"
          ]
        }
      ],
      "source": [
        "my_list = [10, 20, 30, 40, 50]\n",
        "print(\"List:\", my_list)\n",
        "print(\"First element of List:\", my_list[0])\n",
        "print(\"Third element of List:\", my_list[2])\n",
        "print(\"Last element of List:\", my_list[-1])\n",
        "\n",
        "my_tuple = (1, 2, 3, 4, 5)\n",
        "print(\"\\nTuple:\", my_tuple)\n",
        "print(\"First element of Tuple:\", my_tuple[0])\n",
        "print(\"Fourth element of Tuple:\", my_tuple[3])\n",
        "print(\"Last element of Tuple:\", my_tuple[-1])\n",
        "\n",
        "my_dict = {\n",
        "    'name': 'Tejaswini Reddy',\n",
        "    'age': 21,\n",
        "    'city': 'Hyderabad',\n",
        "    'job': 'Engineer',\n",
        "    'hobby': 'Drawing'\n",
        "}\n",
        "print(\"\\nDictionary:\", my_dict)\n",
        "print(\"Value associated with key 'name':\", my_dict['name'])\n",
        "print(\"Value associated with key 'age':\", my_dict['age'])\n",
        "print(\"Value associated with key 'city':\", my_dict['city'])\n"
      ]
    },
    {
      "cell_type": "code",
      "execution_count": null,
      "metadata": {
        "id": "A_JanLaqzKCs"
      },
      "outputs": [],
      "source": []
    }
  ],
  "metadata": {
    "colab": {
      "provenance": []
    },
    "kernelspec": {
      "display_name": "Python 3",
      "name": "python3"
    },
    "language_info": {
      "codemirror_mode": {
        "name": "ipython",
        "version": 3
      },
      "file_extension": ".py",
      "mimetype": "text/x-python",
      "name": "python",
      "nbconvert_exporter": "python",
      "pygments_lexer": "ipython3",
      "version": "3.12.4"
    }
  },
  "nbformat": 4,
  "nbformat_minor": 0
}
