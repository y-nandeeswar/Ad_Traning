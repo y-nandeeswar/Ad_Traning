# Taking input from the user for marks in three subjects
marks1 = float(input("Enter marks for Subject 1: "))
marks2 = float(input("Enter marks for Subject 2: "))
marks3 = float(input("Enter marks for Subject 3: "))

# Calculating the average marks
average = (marks1 + marks2 + marks3) / 3

# Determining the grade based on the average
if average >= 90:
    print("Grade: A")
elif 80 <= average < 90:
    print("Grade: B")
elif 70 <= average < 80:
    print("Grade: C")
else:
    print("Grade: Fail")
