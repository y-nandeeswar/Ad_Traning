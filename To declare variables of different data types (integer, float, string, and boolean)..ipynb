{
  "cells": [
    {
      "cell_type": "code",
      "execution_count": 1,
      "metadata": {
        "colab": {
          "base_uri": "https://localhost:8080/"
        },
        "id": "egLpQ7oWzgNN",
        "outputId": "96178cf1-0ae9-4349-9ca8-eccd6e18072f"
      },
      "outputs": [
        {
          "name": "stdout",
          "output_type": "stream",
          "text": [
            "Integer Variable: 42 | Type: <class 'int'>\n",
            "Float Variable: 3.14 | Type: <class 'float'>\n",
            "String Variable: Hello, Tejaswini Reddy | Type: <class 'str'>\n",
            "Boolean Variable: True | Type: <class 'bool'>\n"
          ]
        }
      ],
      "source": [
        "integer_var = 42\n",
        "float_var = 3.14\n",
        "string_var = \"Hello, Tejaswini Reddy\"\n",
        "boolean_var = True\n",
        "\n",
        "print(\"Integer Variable:\", integer_var, \"| Type:\", type(integer_var))\n",
        "print(\"Float Variable:\", float_var, \"| Type:\", type(float_var))\n",
        "print(\"String Variable:\", string_var, \"| Type:\", type(string_var))\n",
        "print(\"Boolean Variable:\", boolean_var, \"| Type:\", type(boolean_var))\n"
      ]
    },
    {
      "cell_type": "code",
      "execution_count": null,
      "metadata": {
        "id": "NngK-Vk1zu7u"
      },
      "outputs": [],
      "source": []
    }
  ],
  "metadata": {
    "colab": {
      "provenance": []
    },
    "kernelspec": {
      "display_name": "Python 3",
      "name": "python3"
    },
    "language_info": {
      "codemirror_mode": {
        "name": "ipython",
        "version": 3
      },
      "file_extension": ".py",
      "mimetype": "text/x-python",
      "name": "python",
      "nbconvert_exporter": "python",
      "pygments_lexer": "ipython3",
      "version": "3.12.4"
    }
  },
  "nbformat": 4,
  "nbformat_minor": 0
}
